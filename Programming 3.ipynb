{
 "cells": [
  {
   "cell_type": "code",
   "execution_count": null,
   "metadata": {},
   "outputs": [],
   "source": [
    "# Anissa Devore\n",
    "# Project 3\n",
    "import math\n",
    "a= int(input(\"Enter the length of side A: \"))\n",
    "b= int(input(\"Enter the length of side B: \"))\n",
    "c= int(input(\"Enter the length of side C: \"))\n",
    "def area(a=1, b=1, c=1):\n",
    "    s= (a+b+c)/2\n",
    "    area= math.sqrts(s*(s-a)*(s-b)*(s-c))\n",
    "    return area\n",
    "print(\"the area of the triangle is approximately :\", area(a, b, c), \"linear units\")\n",
    "def perimeter (a=1, b=1, c=1):\n",
    "    perimeter= a + b + c\n",
    "    return perimeter\n",
    "print(\"the perimeter of the triangle is: \", perimeter(a, b, c), \"linear units\")"
   ]
  },
  {
   "cell_type": "code",
   "execution_count": null,
   "metadata": {},
   "outputs": [],
   "source": [
    "import random\n",
    "number= random.randint(1,1000)\n",
    "entered_number =None\n",
    "while entered_number != number:\n",
    "    entered_number=int(input(\"enter any number between 1 to 1000: \"))\n",
    "    if entered_number> number:\n",
    "        print(\"too high, guess again\")\n",
    "    elif entered_number< number:\n",
    "        print(\"too low, guess again\")\n",
    "    else:\n",
    "        print(\"correct!\")"
   ]
  },
  {
   "cell_type": "code",
   "execution_count": 1,
   "metadata": {},
   "outputs": [
    {
     "name": "stdout",
     "output_type": "stream",
     "text": [
      "the mean temp for the last 7 days is:  36.42857142857143 degrees f\n",
      "the mean temp for the last 5 days is:  30.2 degrees f\n",
      "the mean temp for the last 2 days is:  31.0 degrees f\n"
     ]
    }
   ],
   "source": [
    "def mean_temp(*args):\n",
    "    return sum(args)/len(args)\n",
    "print(\"the mean temp for the last 7 days is: \", mean_temp(30,32,12,45,32,34,70), \"degrees f\")\n",
    "print(\"the mean temp for the last 5 days is: \", mean_temp(30,32,12,45,32), \"degrees f\")\n",
    "print(\"the mean temp for the last 2 days is: \", mean_temp(30,32), \"degrees f\")"
   ]
  }
 ],
 "metadata": {
  "kernelspec": {
   "display_name": "Python 3",
   "language": "python",
   "name": "python3"
  },
  "language_info": {
   "codemirror_mode": {
    "name": "ipython",
    "version": 3
   },
   "file_extension": ".py",
   "mimetype": "text/x-python",
   "name": "python",
   "nbconvert_exporter": "python",
   "pygments_lexer": "ipython3",
   "version": "3.6.6+"
  }
 },
 "nbformat": 4,
 "nbformat_minor": 2
}
